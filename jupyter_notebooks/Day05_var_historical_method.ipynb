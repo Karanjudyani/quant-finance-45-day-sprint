{
 "cells": [
  {
   "cell_type": "markdown",
   "id": "ba490321",
   "metadata": {},
   "source": [
    "# 📊 Day 5: Value at Risk (VaR) – Historical Method\n"
   ]
  },
  {
   "cell_type": "markdown",
   "id": "55cb3118",
   "metadata": {},
   "source": [
    "## 🧠 Theory Recap\n",
    "- **VaR** estimates the potential loss in value of a portfolio over a defined period for a given confidence interval.\n",
    "- **Historical Method**: Uses past actual returns to simulate the distribution of possible losses.\n",
    "- Does **not assume** a normal distribution of returns (non-parametric).\n",
    "- Simply ranks past returns and finds the percentile cut-off based on confidence level (e.g., 5% for 95% confidence).\n"
   ]
  },
  {
   "cell_type": "markdown",
   "id": "5c8430ca",
   "metadata": {},
   "source": [
    "## 🛠️ What we'll Learn Today\n",
    "- Load and clean historical price data\n",
    "- Calculate daily returns\n",
    "- Use historical returns to compute VaR at different confidence levels\n",
    "- Interpret VaR result and limitations of the method\n"
   ]
  },
  {
   "cell_type": "code",
   "execution_count": 36,
   "id": "d785987e",
   "metadata": {},
   "outputs": [
    {
     "name": "stderr",
     "output_type": "stream",
     "text": [
      "C:\\Users\\vedik\\AppData\\Local\\Temp\\ipykernel_3004\\1561389042.py:8: FutureWarning: YF.download() has changed argument auto_adjust default to True\n",
      "  df = yf.download(ticker, start=\"2018-01-01\", progress=False)\n"
     ]
    },
    {
     "data": {
      "text/html": [
       "<div>\n",
       "<style scoped>\n",
       "    .dataframe tbody tr th:only-of-type {\n",
       "        vertical-align: middle;\n",
       "    }\n",
       "\n",
       "    .dataframe tbody tr th {\n",
       "        vertical-align: top;\n",
       "    }\n",
       "\n",
       "    .dataframe thead tr th {\n",
       "        text-align: left;\n",
       "    }\n",
       "\n",
       "    .dataframe thead tr:last-of-type th {\n",
       "        text-align: right;\n",
       "    }\n",
       "</style>\n",
       "<table border=\"1\" class=\"dataframe\">\n",
       "  <thead>\n",
       "    <tr>\n",
       "      <th>Price</th>\n",
       "      <th>Close</th>\n",
       "      <th>High</th>\n",
       "      <th>Low</th>\n",
       "      <th>Open</th>\n",
       "      <th>Volume</th>\n",
       "      <th>Return</th>\n",
       "    </tr>\n",
       "    <tr>\n",
       "      <th>Ticker</th>\n",
       "      <th>AAPL</th>\n",
       "      <th>AAPL</th>\n",
       "      <th>AAPL</th>\n",
       "      <th>AAPL</th>\n",
       "      <th>AAPL</th>\n",
       "      <th></th>\n",
       "    </tr>\n",
       "    <tr>\n",
       "      <th>Date</th>\n",
       "      <th></th>\n",
       "      <th></th>\n",
       "      <th></th>\n",
       "      <th></th>\n",
       "      <th></th>\n",
       "      <th></th>\n",
       "    </tr>\n",
       "  </thead>\n",
       "  <tbody>\n",
       "    <tr>\n",
       "      <th>2025-07-24</th>\n",
       "      <td>213.759995</td>\n",
       "      <td>215.690002</td>\n",
       "      <td>213.529999</td>\n",
       "      <td>213.899994</td>\n",
       "      <td>46022600</td>\n",
       "      <td>-0.001821</td>\n",
       "    </tr>\n",
       "    <tr>\n",
       "      <th>2025-07-25</th>\n",
       "      <td>213.880005</td>\n",
       "      <td>215.240005</td>\n",
       "      <td>213.399994</td>\n",
       "      <td>214.699997</td>\n",
       "      <td>40268800</td>\n",
       "      <td>0.000561</td>\n",
       "    </tr>\n",
       "    <tr>\n",
       "      <th>2025-07-28</th>\n",
       "      <td>214.050003</td>\n",
       "      <td>214.850006</td>\n",
       "      <td>213.059998</td>\n",
       "      <td>214.029999</td>\n",
       "      <td>37858000</td>\n",
       "      <td>0.000795</td>\n",
       "    </tr>\n",
       "    <tr>\n",
       "      <th>2025-07-29</th>\n",
       "      <td>211.270004</td>\n",
       "      <td>214.809998</td>\n",
       "      <td>210.820007</td>\n",
       "      <td>214.179993</td>\n",
       "      <td>51411700</td>\n",
       "      <td>-0.012988</td>\n",
       "    </tr>\n",
       "    <tr>\n",
       "      <th>2025-07-30</th>\n",
       "      <td>208.300003</td>\n",
       "      <td>212.389999</td>\n",
       "      <td>207.720001</td>\n",
       "      <td>211.895004</td>\n",
       "      <td>27171281</td>\n",
       "      <td>-0.014058</td>\n",
       "    </tr>\n",
       "  </tbody>\n",
       "</table>\n",
       "</div>"
      ],
      "text/plain": [
       "Price            Close        High         Low        Open    Volume    Return\n",
       "Ticker            AAPL        AAPL        AAPL        AAPL      AAPL          \n",
       "Date                                                                          \n",
       "2025-07-24  213.759995  215.690002  213.529999  213.899994  46022600 -0.001821\n",
       "2025-07-25  213.880005  215.240005  213.399994  214.699997  40268800  0.000561\n",
       "2025-07-28  214.050003  214.850006  213.059998  214.029999  37858000  0.000795\n",
       "2025-07-29  211.270004  214.809998  210.820007  214.179993  51411700 -0.012988\n",
       "2025-07-30  208.300003  212.389999  207.720001  211.895004  27171281 -0.014058"
      ]
     },
     "execution_count": 36,
     "metadata": {},
     "output_type": "execute_result"
    }
   ],
   "source": [
    "# Step 1: Load Data from yfinance\n",
    "import yfinance as yf\n",
    "import pandas as pd\n",
    "import matplotlib.pyplot as plt\n",
    "\n",
    "# Download AAPL adjusted close data for the past 5 years\n",
    "ticker = \"AAPL\"\n",
    "df = yf.download(ticker, start=\"2018-01-01\", progress=False)\n",
    "\n",
    "# Use Adjusted Close and calculate returns\n",
    "df['Return'] = df['Close'].pct_change()\n",
    "df.dropna(inplace=True)\n",
    "\n",
    "# Display last few rows\n",
    "df.tail()\n"
   ]
  },
  {
   "cell_type": "code",
   "execution_count": 37,
   "id": "d27c2dfc",
   "metadata": {},
   "outputs": [
    {
     "data": {
      "image/png": "[encoded data removed]",
      "text/plain": [
       "<Figure size 1000x400 with 1 Axes>"
      ]
     },
     "metadata": {},
     "output_type": "display_data"
    }
   ],
   "source": [
    "# Step 2: Plot Return Distribution\n",
    "df['Return'].hist(bins=100, figsize=(10,4))\n",
    "plt.title('Histogram of Daily Returns')\n",
    "plt.xlabel('Return')\n",
    "plt.ylabel('Frequency')\n",
    "plt.grid(True)\n",
    "plt.show()"
   ]
  },
  {
   "cell_type": "code",
   "execution_count": 38,
   "id": "34b381bc",
   "metadata": {},
   "outputs": [
    {
     "name": "stdout",
     "output_type": "stream",
     "text": [
      "Historical VaR at 90% confidence: -2.07%\n",
      "Historical VaR at 95% confidence: -3.00%\n",
      "Historical VaR at 99% confidence: -5.04%\n"
     ]
    }
   ],
   "source": [
    "# Step 3: Calculate Historical VaR\n",
    "confidence_levels = [0.90, 0.95, 0.99]\n",
    "for cl in confidence_levels:\n",
    "    var = df['Return'].quantile(1 - cl)\n",
    "    print(f\"Historical VaR at {int(cl*100)}% confidence: {var:.2%}\")"
   ]
  },
  {
   "cell_type": "markdown",
   "id": "ef9e2f6d",
   "metadata": {},
   "source": [
    "## 📌 Key Takeaways\n",
    "- VaR at 95% means there's a 5% chance the portfolio will lose **more** than the VaR amount on any given day.\n",
    "- Historical VaR captures **real** past market movements, including fat tails and skewness.\n",
    "- Limitation: Assumes future will resemble the past (not ideal during regime shifts).\n"
   ]
  }
 ],
 "metadata": {
  "kernelspec": {
   "display_name": "Python 3",
   "language": "python",
   "name": "python3"
  },
  "language_info": {
   "codemirror_mode": {
    "name": "ipython",
    "version": 3
   },
   "file_extension": ".py",
   "mimetype": "text/x-python",
   "name": "python",
   "nbconvert_exporter": "python",
   "pygments_lexer": "ipython3",
   "version": "3.11.0"
  }
 },
 "nbformat": 4,
 "nbformat_minor": 5
}
