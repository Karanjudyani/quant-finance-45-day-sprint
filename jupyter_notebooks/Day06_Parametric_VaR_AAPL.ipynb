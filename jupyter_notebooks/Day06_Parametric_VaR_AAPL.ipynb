{
 "cells": [
  {
   "cell_type": "markdown",
   "id": "b02d8b9d",
   "metadata": {},
   "source": [
    "# Day 6 - Parametric VaR (Variance-Covariance Method)"
   ]
  },
  {
   "cell_type": "markdown",
   "id": "c606c83b",
   "metadata": {},
   "source": [
    "## Learning Objectives\n",
    "- Understand the concept of Value at Risk (VaR) using the Parametric method.\n",
    "- Apply the variance-covariance method to estimate portfolio risk assuming normality.\n",
    "- Calculate and visualize VaR for a single asset (AAPL)."
   ]
  },
  {
   "cell_type": "markdown",
   "id": "3e98f2e3",
   "metadata": {},
   "source": [
    "## Key Concepts\n",
    "- Parametric VaR assumes returns are normally distributed.\n",
    "- VaR = z * σ * portfolio_value, where z is the z-score for confidence level.\n",
    "- We typically calculate 1-day VaR at 95% or 99% confidence level."
   ]
  },
  {
   "cell_type": "code",
   "execution_count": 3,
   "id": "f89e22bb",
   "metadata": {},
   "outputs": [
    {
     "name": "stderr",
     "output_type": "stream",
     "text": [
      "C:\\Users\\vedik\\AppData\\Local\\Temp\\ipykernel_17732\\1561389042.py:8: FutureWarning: YF.download() has changed argument auto_adjust default to True\n",
      "  df = yf.download(ticker, start=\"2018-01-01\", progress=False)\n"
     ]
    },
    {
     "data": {
      "text/html": [
       "<div>\n",
       "<style scoped>\n",
       "    .dataframe tbody tr th:only-of-type {\n",
       "        vertical-align: middle;\n",
       "    }\n",
       "\n",
       "    .dataframe tbody tr th {\n",
       "        vertical-align: top;\n",
       "    }\n",
       "\n",
       "    .dataframe thead tr th {\n",
       "        text-align: left;\n",
       "    }\n",
       "\n",
       "    .dataframe thead tr:last-of-type th {\n",
       "        text-align: right;\n",
       "    }\n",
       "</style>\n",
       "<table border=\"1\" class=\"dataframe\">\n",
       "  <thead>\n",
       "    <tr>\n",
       "      <th>Price</th>\n",
       "      <th>Close</th>\n",
       "      <th>High</th>\n",
       "      <th>Low</th>\n",
       "      <th>Open</th>\n",
       "      <th>Volume</th>\n",
       "      <th>Return</th>\n",
       "    </tr>\n",
       "    <tr>\n",
       "      <th>Ticker</th>\n",
       "      <th>AAPL</th>\n",
       "      <th>AAPL</th>\n",
       "      <th>AAPL</th>\n",
       "      <th>AAPL</th>\n",
       "      <th>AAPL</th>\n",
       "      <th></th>\n",
       "    </tr>\n",
       "    <tr>\n",
       "      <th>Date</th>\n",
       "      <th></th>\n",
       "      <th></th>\n",
       "      <th></th>\n",
       "      <th></th>\n",
       "      <th></th>\n",
       "      <th></th>\n",
       "    </tr>\n",
       "  </thead>\n",
       "  <tbody>\n",
       "    <tr>\n",
       "      <th>2025-07-24</th>\n",
       "      <td>213.759995</td>\n",
       "      <td>215.690002</td>\n",
       "      <td>213.529999</td>\n",
       "      <td>213.899994</td>\n",
       "      <td>46022600</td>\n",
       "      <td>-0.001821</td>\n",
       "    </tr>\n",
       "    <tr>\n",
       "      <th>2025-07-25</th>\n",
       "      <td>213.880005</td>\n",
       "      <td>215.240005</td>\n",
       "      <td>213.399994</td>\n",
       "      <td>214.699997</td>\n",
       "      <td>40268800</td>\n",
       "      <td>0.000561</td>\n",
       "    </tr>\n",
       "    <tr>\n",
       "      <th>2025-07-28</th>\n",
       "      <td>214.050003</td>\n",
       "      <td>214.850006</td>\n",
       "      <td>213.059998</td>\n",
       "      <td>214.029999</td>\n",
       "      <td>37858000</td>\n",
       "      <td>0.000795</td>\n",
       "    </tr>\n",
       "    <tr>\n",
       "      <th>2025-07-29</th>\n",
       "      <td>211.270004</td>\n",
       "      <td>214.809998</td>\n",
       "      <td>210.820007</td>\n",
       "      <td>214.179993</td>\n",
       "      <td>51411700</td>\n",
       "      <td>-0.012988</td>\n",
       "    </tr>\n",
       "    <tr>\n",
       "      <th>2025-07-30</th>\n",
       "      <td>208.570007</td>\n",
       "      <td>212.389999</td>\n",
       "      <td>207.720001</td>\n",
       "      <td>211.895004</td>\n",
       "      <td>27707141</td>\n",
       "      <td>-0.012780</td>\n",
       "    </tr>\n",
       "  </tbody>\n",
       "</table>\n",
       "</div>"
      ],
      "text/plain": [
       "Price            Close        High         Low        Open    Volume    Return\n",
       "Ticker            AAPL        AAPL        AAPL        AAPL      AAPL          \n",
       "Date                                                                          \n",
       "2025-07-24  213.759995  215.690002  213.529999  213.899994  46022600 -0.001821\n",
       "2025-07-25  213.880005  215.240005  213.399994  214.699997  40268800  0.000561\n",
       "2025-07-28  214.050003  214.850006  213.059998  214.029999  37858000  0.000795\n",
       "2025-07-29  211.270004  214.809998  210.820007  214.179993  51411700 -0.012988\n",
       "2025-07-30  208.570007  212.389999  207.720001  211.895004  27707141 -0.012780"
      ]
     },
     "execution_count": 3,
     "metadata": {},
     "output_type": "execute_result"
    }
   ],
   "source": [
    "# Step 1: Load Data from yfinance\n",
    "import yfinance as yf\n",
    "import pandas as pd\n",
    "import matplotlib.pyplot as plt\n",
    "\n",
    "# Download AAPL adjusted close data for the past 5 years\n",
    "ticker = \"AAPL\"\n",
    "df = yf.download(ticker, start=\"2018-01-01\", progress=False)\n",
    "\n",
    "# Use Adjusted Close and calculate returns\n",
    "df['Return'] = df['Close'].pct_change()\n",
    "df.dropna(inplace=True)\n",
    "\n",
    "# Display last few rows\n",
    "df.tail()\n"
   ]
  },
  {
   "cell_type": "code",
   "execution_count": 4,
   "id": "9509cbf9",
   "metadata": {},
   "outputs": [
    {
     "name": "stdout",
     "output_type": "stream",
     "text": [
      "Parametric 1-Day VaR at 95% confidence: $32,438.93\n"
     ]
    }
   ],
   "source": [
    "# Step 2: Parametric VaR Calculation (Variance-Covariance Method)\n",
    "import numpy as np\n",
    "\n",
    "confidence_level = 0.95\n",
    "z_score = abs(np.percentile(np.random.normal(0, 1, 100000), (1 - confidence_level) * 100))\n",
    "portfolio_value = 1_000_000  # Assume $1,000,000 portfolio\n",
    "\n",
    "mu = df['Return'].mean()\n",
    "sigma = df['Return'].std()\n",
    "\n",
    "var_1day = z_score * sigma * portfolio_value\n",
    "print(f\"Parametric 1-Day VaR at {int(confidence_level*100)}% confidence: ${var_1day:,.2f}\")"
   ]
  },
  {
   "cell_type": "code",
   "execution_count": 5,
   "id": "5a6fbffe",
   "metadata": {},
   "outputs": [
    {
     "data": {
      "image/png": "[encoded data removed]",
      "text/plain": [
       "<Figure size 1000x500 with 1 Axes>"
      ]
     },
     "metadata": {},
     "output_type": "display_data"
    }
   ],
   "source": [
    "# Step 3: Visualize distribution of returns\n",
    "import matplotlib.pyplot as plt\n",
    "\n",
    "plt.figure(figsize=(10, 5))\n",
    "plt.hist(df['Return'], bins=50, alpha=0.7, color='blue', edgecolor='black')\n",
    "plt.axvline(-var_1day/portfolio_value, color='red', linestyle='dashed', label=f'VaR @ {int(confidence_level*100)}%')\n",
    "plt.title('Histogram of Daily Returns - AAPL')\n",
    "plt.xlabel('Daily Return')\n",
    "plt.ylabel('Frequency')\n",
    "plt.legend()\n",
    "plt.grid(True)\n",
    "plt.show()"
   ]
  }
 ],
 "metadata": {
  "kernelspec": {
   "display_name": "Python 3",
   "language": "python",
   "name": "python3"
  },
  "language_info": {
   "codemirror_mode": {
    "name": "ipython",
    "version": 3
   },
   "file_extension": ".py",
   "mimetype": "text/x-python",
   "name": "python",
   "nbconvert_exporter": "python",
   "pygments_lexer": "ipython3",
   "version": "3.11.0"
  }
 },
 "nbformat": 4,
 "nbformat_minor": 5
}
