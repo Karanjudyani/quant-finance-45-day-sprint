{
 "cells": [
  {
   "cell_type": "markdown",
   "id": "507f585f",
   "metadata": {},
   "source": [
    "# Day 7 - Expected Shortfall (CVaR)"
   ]
  },
  {
   "cell_type": "markdown",
   "id": "07a4245e",
   "metadata": {},
   "source": [
    "## Learning Objectives\n",
    "- Understand the concept of Expected Shortfall (Conditional VaR or CVaR).\n",
    "- Learn the limitation of VaR and why CVaR is a more coherent risk measure.\n",
    "- Calculate CVaR using historical returns for a single stock (AAPL)."
   ]
  },
  {
   "cell_type": "markdown",
   "id": "b3716ff5",
   "metadata": {},
   "source": [
    "## Key Concepts\n",
    "- CVaR (Expected Shortfall) is the average of losses beyond the VaR threshold.\n",
    "- Unlike VaR, CVaR accounts for the tail of the loss distribution.\n",
    "- Used in risk management, portfolio optimization, and stress testing."
   ]
  },
  {
   "cell_type": "code",
   "execution_count": 2,
   "id": "b1c12f08",
   "metadata": {},
   "outputs": [
    {
     "name": "stderr",
     "output_type": "stream",
     "text": [
      "C:\\Users\\vedik\\AppData\\Local\\Temp\\ipykernel_23680\\3210532547.py:6: FutureWarning: YF.download() has changed argument auto_adjust default to True\n",
      "  df = yf.download(ticker, start=\"2018-01-01\", progress=False)\n"
     ]
    },
    {
     "data": {
      "text/html": [
       "<div>\n",
       "<style scoped>\n",
       "    .dataframe tbody tr th:only-of-type {\n",
       "        vertical-align: middle;\n",
       "    }\n",
       "\n",
       "    .dataframe tbody tr th {\n",
       "        vertical-align: top;\n",
       "    }\n",
       "\n",
       "    .dataframe thead tr th {\n",
       "        text-align: left;\n",
       "    }\n",
       "\n",
       "    .dataframe thead tr:last-of-type th {\n",
       "        text-align: right;\n",
       "    }\n",
       "</style>\n",
       "<table border=\"1\" class=\"dataframe\">\n",
       "  <thead>\n",
       "    <tr>\n",
       "      <th>Price</th>\n",
       "      <th>Close</th>\n",
       "      <th>High</th>\n",
       "      <th>Low</th>\n",
       "      <th>Open</th>\n",
       "      <th>Volume</th>\n",
       "      <th>Return</th>\n",
       "    </tr>\n",
       "    <tr>\n",
       "      <th>Ticker</th>\n",
       "      <th>AAPL</th>\n",
       "      <th>AAPL</th>\n",
       "      <th>AAPL</th>\n",
       "      <th>AAPL</th>\n",
       "      <th>AAPL</th>\n",
       "      <th></th>\n",
       "    </tr>\n",
       "    <tr>\n",
       "      <th>Date</th>\n",
       "      <th></th>\n",
       "      <th></th>\n",
       "      <th></th>\n",
       "      <th></th>\n",
       "      <th></th>\n",
       "      <th></th>\n",
       "    </tr>\n",
       "  </thead>\n",
       "  <tbody>\n",
       "    <tr>\n",
       "      <th>2025-07-28</th>\n",
       "      <td>214.050003</td>\n",
       "      <td>214.850006</td>\n",
       "      <td>213.059998</td>\n",
       "      <td>214.029999</td>\n",
       "      <td>37858000</td>\n",
       "      <td>0.000795</td>\n",
       "    </tr>\n",
       "    <tr>\n",
       "      <th>2025-07-29</th>\n",
       "      <td>211.270004</td>\n",
       "      <td>214.809998</td>\n",
       "      <td>210.820007</td>\n",
       "      <td>214.179993</td>\n",
       "      <td>51411700</td>\n",
       "      <td>-0.012988</td>\n",
       "    </tr>\n",
       "    <tr>\n",
       "      <th>2025-07-30</th>\n",
       "      <td>209.050003</td>\n",
       "      <td>212.389999</td>\n",
       "      <td>207.720001</td>\n",
       "      <td>211.899994</td>\n",
       "      <td>45512500</td>\n",
       "      <td>-0.010508</td>\n",
       "    </tr>\n",
       "    <tr>\n",
       "      <th>2025-07-31</th>\n",
       "      <td>207.570007</td>\n",
       "      <td>209.839996</td>\n",
       "      <td>207.160004</td>\n",
       "      <td>208.490005</td>\n",
       "      <td>78744400</td>\n",
       "      <td>-0.007080</td>\n",
       "    </tr>\n",
       "    <tr>\n",
       "      <th>2025-08-01</th>\n",
       "      <td>203.070007</td>\n",
       "      <td>213.580002</td>\n",
       "      <td>201.500000</td>\n",
       "      <td>210.889999</td>\n",
       "      <td>73752581</td>\n",
       "      <td>-0.021679</td>\n",
       "    </tr>\n",
       "  </tbody>\n",
       "</table>\n",
       "</div>"
      ],
      "text/plain": [
       "Price            Close        High         Low        Open    Volume    Return\n",
       "Ticker            AAPL        AAPL        AAPL        AAPL      AAPL          \n",
       "Date                                                                          \n",
       "2025-07-28  214.050003  214.850006  213.059998  214.029999  37858000  0.000795\n",
       "2025-07-29  211.270004  214.809998  210.820007  214.179993  51411700 -0.012988\n",
       "2025-07-30  209.050003  212.389999  207.720001  211.899994  45512500 -0.010508\n",
       "2025-07-31  207.570007  209.839996  207.160004  208.490005  78744400 -0.007080\n",
       "2025-08-01  203.070007  213.580002  201.500000  210.889999  73752581 -0.021679"
      ]
     },
     "execution_count": 2,
     "metadata": {},
     "output_type": "execute_result"
    }
   ],
   "source": [
    "# Step 1: Load AAPL data from yfinance\n",
    "import yfinance as yf\n",
    "import pandas as pd\n",
    "\n",
    "ticker = \"AAPL\"\n",
    "df = yf.download(ticker, start=\"2018-01-01\", progress=False)\n",
    "df['Return'] = df['Close'].pct_change()\n",
    "df.dropna(inplace=True)\n",
    "df.tail()"
   ]
  },
  {
   "cell_type": "code",
   "execution_count": 3,
   "id": "4c9ebe3b",
   "metadata": {},
   "outputs": [
    {
     "name": "stdout",
     "output_type": "stream",
     "text": [
      "Historical VaR (95%): $30,029.19\n",
      "Expected Shortfall (CVaR 95%): $44,644.71\n"
     ]
    }
   ],
   "source": [
    "# Step 2: Calculate Historical VaR and CVaR (Expected Shortfall)\n",
    "import numpy as np\n",
    "\n",
    "confidence_level = 0.95\n",
    "portfolio_value = 1_000_000  # Assume $1,000,000 investment\n",
    "\n",
    "# Historical VaR\n",
    "var_threshold = df['Return'].quantile(1 - confidence_level)\n",
    "\n",
    "# CVaR: Average of returns less than VaR threshold\n",
    "cvar = df[df['Return'] <= var_threshold]['Return'].mean()\n",
    "\n",
    "# Scale to portfolio value\n",
    "var_dollar = abs(var_threshold * portfolio_value)\n",
    "cvar_dollar = abs(cvar * portfolio_value)\n",
    "\n",
    "print(f\"Historical VaR (95%): ${var_dollar:,.2f}\")\n",
    "print(f\"Expected Shortfall (CVaR 95%): ${cvar_dollar:,.2f}\")"
   ]
  },
  {
   "cell_type": "code",
   "execution_count": 4,
   "id": "01c35e63",
   "metadata": {},
   "outputs": [
    {
     "data": {
      "image/png": "[encoded data removed]",
      "text/plain": [
       "<Figure size 1000x500 with 1 Axes>"
      ]
     },
     "metadata": {},
     "output_type": "display_data"
    }
   ],
   "source": [
    "# Step 3: Visualize the tail and CVaR\n",
    "import matplotlib.pyplot as plt\n",
    "\n",
    "plt.figure(figsize=(10, 5))\n",
    "plt.hist(df['Return'], bins=50, alpha=0.7, edgecolor='black')\n",
    "plt.axvline(var_threshold, color='red', linestyle='--', label=f'VaR (5%): {var_threshold:.2%}')\n",
    "plt.axvline(cvar, color='purple', linestyle='--', label=f'CVaR (5%): {cvar:.2%}')\n",
    "plt.title('AAPL Return Distribution with VaR and CVaR')\n",
    "plt.xlabel('Daily Return')\n",
    "plt.ylabel('Frequency')\n",
    "plt.legend()\n",
    "plt.grid(True)\n",
    "plt.show()"
   ]
  }
 ],
 "metadata": {
  "kernelspec": {
   "display_name": "Python 3",
   "language": "python",
   "name": "python3"
  },
  "language_info": {
   "codemirror_mode": {
    "name": "ipython",
    "version": 3
   },
   "file_extension": ".py",
   "mimetype": "text/x-python",
   "name": "python",
   "nbconvert_exporter": "python",
   "pygments_lexer": "ipython3",
   "version": "3.11.0"
  }
 },
 "nbformat": 4,
 "nbformat_minor": 5
}
