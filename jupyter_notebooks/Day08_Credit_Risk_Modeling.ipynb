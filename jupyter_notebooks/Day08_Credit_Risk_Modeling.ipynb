{
 "cells": [
  {
   "cell_type": "markdown",
   "id": "b2599442",
   "metadata": {},
   "source": [
    "# Day 8 - Basic Credit Risk Modeling (Real Data)"
   ]
  },
  {
   "cell_type": "markdown",
   "id": "82970241",
   "metadata": {},
   "source": [
    "## Learning Objectives\n",
    "- Use real-world data to estimate Probability of Default (PD).\n",
    "- Calculate Expected Loss (EL) using PD, LGD, and EAD.\n",
    "- Understand logistic regression in credit risk context."
   ]
  },
  {
   "cell_type": "markdown",
   "id": "e44d224a",
   "metadata": {},
   "source": [
    "## Key Concepts\n",
    "- Expected Loss (EL) = PD × LGD × EAD\n",
    "- PD = Probability that a borrower defaults.\n",
    "- LGD = Loss Given Default (portion of exposure lost if default occurs).\n",
    "- EAD = Exposure at Default (amount at risk during default)."
   ]
  },
  {
   "cell_type": "code",
   "execution_count": 1,
   "id": "ae9ef33b",
   "metadata": {},
   "outputs": [
    {
     "data": {
      "text/html": [
       "<div>\n",
       "<style scoped>\n",
       "    .dataframe tbody tr th:only-of-type {\n",
       "        vertical-align: middle;\n",
       "    }\n",
       "\n",
       "    .dataframe tbody tr th {\n",
       "        vertical-align: top;\n",
       "    }\n",
       "\n",
       "    .dataframe thead th {\n",
       "        text-align: right;\n",
       "    }\n",
       "</style>\n",
       "<table border=\"1\" class=\"dataframe\">\n",
       "  <thead>\n",
       "    <tr style=\"text-align: right;\">\n",
       "      <th></th>\n",
       "      <th>EAD</th>\n",
       "      <th>LGD</th>\n",
       "      <th>Default</th>\n",
       "    </tr>\n",
       "  </thead>\n",
       "  <tbody>\n",
       "    <tr>\n",
       "      <th>0</th>\n",
       "      <td>1169</td>\n",
       "      <td>0.45</td>\n",
       "      <td>0</td>\n",
       "    </tr>\n",
       "    <tr>\n",
       "      <th>1</th>\n",
       "      <td>5951</td>\n",
       "      <td>0.45</td>\n",
       "      <td>1</td>\n",
       "    </tr>\n",
       "    <tr>\n",
       "      <th>2</th>\n",
       "      <td>2096</td>\n",
       "      <td>0.45</td>\n",
       "      <td>0</td>\n",
       "    </tr>\n",
       "    <tr>\n",
       "      <th>3</th>\n",
       "      <td>7882</td>\n",
       "      <td>0.45</td>\n",
       "      <td>0</td>\n",
       "    </tr>\n",
       "    <tr>\n",
       "      <th>4</th>\n",
       "      <td>4870</td>\n",
       "      <td>0.45</td>\n",
       "      <td>1</td>\n",
       "    </tr>\n",
       "  </tbody>\n",
       "</table>\n",
       "</div>"
      ],
      "text/plain": [
       "    EAD   LGD Default\n",
       "0  1169  0.45       0\n",
       "1  5951  0.45       1\n",
       "2  2096  0.45       0\n",
       "3  7882  0.45       0\n",
       "4  4870  0.45       1"
      ]
     },
     "execution_count": 1,
     "metadata": {},
     "output_type": "execute_result"
    }
   ],
   "source": [
    "# Step 1: Load real credit risk data\n",
    "import pandas as pd\n",
    "from sklearn.datasets import fetch_openml\n",
    "\n",
    "# Fetch German Credit dataset\n",
    "data = fetch_openml('credit-g', version=1, as_frame=True)\n",
    "portfolio = data.frame.copy()\n",
    "\n",
    "# Define Default: 1 = bad credit (default), 0 = good credit\n",
    "portfolio['Default'] = portfolio['class'].map({'bad': 1, 'good': 0})\n",
    "portfolio.drop(columns='class', inplace=True)\n",
    "\n",
    "# Assign Exposure at Default (EAD) from 'credit_amount'\n",
    "portfolio['EAD'] = portfolio['credit_amount']\n",
    "\n",
    "# Assign constant Loss Given Default (LGD), e.g., 45%\n",
    "portfolio['LGD'] = 0.45\n",
    "\n",
    "# Preview data\n",
    "portfolio[['EAD', 'LGD', 'Default']].head()"
   ]
  },
  {
   "cell_type": "code",
   "execution_count": 2,
   "id": "d2b382b6",
   "metadata": {},
   "outputs": [
    {
     "name": "stdout",
     "output_type": "stream",
     "text": [
      "Optimization terminated successfully.\n",
      "         Current function value: 0.584599\n",
      "         Iterations 5\n"
     ]
    },
    {
     "data": {
      "text/html": [
       "<div>\n",
       "<style scoped>\n",
       "    .dataframe tbody tr th:only-of-type {\n",
       "        vertical-align: middle;\n",
       "    }\n",
       "\n",
       "    .dataframe tbody tr th {\n",
       "        vertical-align: top;\n",
       "    }\n",
       "\n",
       "    .dataframe thead th {\n",
       "        text-align: right;\n",
       "    }\n",
       "</style>\n",
       "<table border=\"1\" class=\"dataframe\">\n",
       "  <thead>\n",
       "    <tr style=\"text-align: right;\">\n",
       "      <th></th>\n",
       "      <th>PD</th>\n",
       "      <th>Default</th>\n",
       "    </tr>\n",
       "  </thead>\n",
       "  <tbody>\n",
       "    <tr>\n",
       "      <th>0</th>\n",
       "      <td>0.116467</td>\n",
       "      <td>0</td>\n",
       "    </tr>\n",
       "    <tr>\n",
       "      <th>1</th>\n",
       "      <td>0.591978</td>\n",
       "      <td>1</td>\n",
       "    </tr>\n",
       "    <tr>\n",
       "      <th>2</th>\n",
       "      <td>0.186660</td>\n",
       "      <td>0</td>\n",
       "    </tr>\n",
       "    <tr>\n",
       "      <th>3</th>\n",
       "      <td>0.431964</td>\n",
       "      <td>0</td>\n",
       "    </tr>\n",
       "    <tr>\n",
       "      <th>4</th>\n",
       "      <td>0.250647</td>\n",
       "      <td>1</td>\n",
       "    </tr>\n",
       "  </tbody>\n",
       "</table>\n",
       "</div>"
      ],
      "text/plain": [
       "         PD Default\n",
       "0  0.116467       0\n",
       "1  0.591978       1\n",
       "2  0.186660       0\n",
       "3  0.431964       0\n",
       "4  0.250647       1"
      ]
     },
     "execution_count": 2,
     "metadata": {},
     "output_type": "execute_result"
    }
   ],
   "source": [
    "# Step 2: Estimate Probability of Default (PD) using logistic regression\n",
    "import statsmodels.api as sm\n",
    "\n",
    "# Use 'duration' and 'age' as predictors\n",
    "X = portfolio[['duration', 'age']]\n",
    "X = sm.add_constant(X)\n",
    "y = portfolio['Default']\n",
    "\n",
    "# Fit logistic regression\n",
    "model = sm.Logit(y, X).fit()\n",
    "portfolio['PD'] = model.predict(X)\n",
    "\n",
    "# Preview estimated PD\n",
    "portfolio[['PD', 'Default']].head()"
   ]
  },
  {
   "cell_type": "code",
   "execution_count": 3,
   "id": "0faca0e9",
   "metadata": {},
   "outputs": [
    {
     "name": "stdout",
     "output_type": "stream",
     "text": [
      "Total Expected Loss for Portfolio: $518,111.08\n"
     ]
    },
    {
     "data": {
      "text/html": [
       "<div>\n",
       "<style scoped>\n",
       "    .dataframe tbody tr th:only-of-type {\n",
       "        vertical-align: middle;\n",
       "    }\n",
       "\n",
       "    .dataframe tbody tr th {\n",
       "        vertical-align: top;\n",
       "    }\n",
       "\n",
       "    .dataframe thead th {\n",
       "        text-align: right;\n",
       "    }\n",
       "</style>\n",
       "<table border=\"1\" class=\"dataframe\">\n",
       "  <thead>\n",
       "    <tr style=\"text-align: right;\">\n",
       "      <th></th>\n",
       "      <th>EAD</th>\n",
       "      <th>LGD</th>\n",
       "      <th>PD</th>\n",
       "      <th>Expected_Loss</th>\n",
       "      <th>Default</th>\n",
       "    </tr>\n",
       "  </thead>\n",
       "  <tbody>\n",
       "    <tr>\n",
       "      <th>0</th>\n",
       "      <td>1169</td>\n",
       "      <td>0.45</td>\n",
       "      <td>0.116467</td>\n",
       "      <td>61.267518</td>\n",
       "      <td>0</td>\n",
       "    </tr>\n",
       "    <tr>\n",
       "      <th>1</th>\n",
       "      <td>5951</td>\n",
       "      <td>0.45</td>\n",
       "      <td>0.591978</td>\n",
       "      <td>1585.286479</td>\n",
       "      <td>1</td>\n",
       "    </tr>\n",
       "    <tr>\n",
       "      <th>2</th>\n",
       "      <td>2096</td>\n",
       "      <td>0.45</td>\n",
       "      <td>0.186660</td>\n",
       "      <td>176.058042</td>\n",
       "      <td>0</td>\n",
       "    </tr>\n",
       "    <tr>\n",
       "      <th>3</th>\n",
       "      <td>7882</td>\n",
       "      <td>0.45</td>\n",
       "      <td>0.431964</td>\n",
       "      <td>1532.132374</td>\n",
       "      <td>0</td>\n",
       "    </tr>\n",
       "    <tr>\n",
       "      <th>4</th>\n",
       "      <td>4870</td>\n",
       "      <td>0.45</td>\n",
       "      <td>0.250647</td>\n",
       "      <td>549.293002</td>\n",
       "      <td>1</td>\n",
       "    </tr>\n",
       "  </tbody>\n",
       "</table>\n",
       "</div>"
      ],
      "text/plain": [
       "    EAD   LGD        PD  Expected_Loss Default\n",
       "0  1169  0.45  0.116467      61.267518       0\n",
       "1  5951  0.45  0.591978    1585.286479       1\n",
       "2  2096  0.45  0.186660     176.058042       0\n",
       "3  7882  0.45  0.431964    1532.132374       0\n",
       "4  4870  0.45  0.250647     549.293002       1"
      ]
     },
     "execution_count": 3,
     "metadata": {},
     "output_type": "execute_result"
    }
   ],
   "source": [
    "# Step 3: Calculate Expected Loss (EL = PD × LGD × EAD)\n",
    "portfolio['Expected_Loss'] = portfolio['PD'] * portfolio['LGD'] * portfolio['EAD']\n",
    "\n",
    "# Portfolio-level Expected Loss\n",
    "total_EL = portfolio['Expected_Loss'].sum()\n",
    "print(f\"Total Expected Loss for Portfolio: ${total_EL:,.2f}\")\n",
    "\n",
    "# Preview calculated values\n",
    "portfolio[['EAD', 'LGD', 'PD', 'Expected_Loss', 'Default']].head()"
   ]
  },
  {
   "cell_type": "code",
   "execution_count": 4,
   "id": "899c4f36",
   "metadata": {},
   "outputs": [
    {
     "data": {
      "image/png": "[encoded data removed]",
      "text/plain": [
       "<Figure size 1000x500 with 1 Axes>"
      ]
     },
     "metadata": {},
     "output_type": "display_data"
    }
   ],
   "source": [
    "# Step 4: Visualize PD distribution\n",
    "import matplotlib.pyplot as plt\n",
    "\n",
    "plt.figure(figsize=(10, 5))\n",
    "plt.hist(portfolio['PD'], bins=30, edgecolor='black', alpha=0.7)\n",
    "plt.title('Estimated Probability of Default Distribution')\n",
    "plt.xlabel('PD')\n",
    "plt.ylabel('Frequency')\n",
    "plt.grid(True)\n",
    "plt.show()"
   ]
  }
 ],
 "metadata": {
  "kernelspec": {
   "display_name": "Python 3",
   "language": "python",
   "name": "python3"
  },
  "language_info": {
   "codemirror_mode": {
    "name": "ipython",
    "version": 3
   },
   "file_extension": ".py",
   "mimetype": "text/x-python",
   "name": "python",
   "nbconvert_exporter": "python",
   "pygments_lexer": "ipython3",
   "version": "3.11.0"
  }
 },
 "nbformat": 4,
 "nbformat_minor": 5
}
